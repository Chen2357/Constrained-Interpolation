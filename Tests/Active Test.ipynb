{
 "cells": [
  {
   "cell_type": "code",
   "execution_count": 9,
   "metadata": {},
   "outputs": [],
   "source": [
    "import sympy as sp\n",
    "import numpy as np"
   ]
  },
  {
   "cell_type": "code",
   "execution_count": 14,
   "metadata": {},
   "outputs": [],
   "source": [
    "def old_code(points):\n",
    "    A = points[1] - points[0]\n",
    "    B = points[2] - points[1]\n",
    "    C = points[0] - points[2]\n",
    "\n",
    "    x1, y1, x2, y2, x3, y3 = sp.symbols(\"x_1, y_1, x_2, y_2, x_3, y_3\")\n",
    "\n",
    "    theta = sp.symbols(\"\\\\theta\")\n",
    "    z = sp.symbols(\"z\")\n",
    "\n",
    "    expr: sp.Symbol = (y1*x1**2 + y2*x2**2 + y3*x3**2).subs({\n",
    "        x1: A[0]*sp.cos(theta) - A[1]*sp.sin(theta),\n",
    "        y1: A[0]*sp.sin(theta) + A[1]*sp.cos(theta),\n",
    "        x2: B[0]*sp.cos(theta) - B[1]*sp.sin(theta),\n",
    "        y2: B[0]*sp.sin(theta) + B[1]*sp.cos(theta),\n",
    "        x3: C[0]*sp.cos(theta) - C[1]*sp.sin(theta),\n",
    "        y3: C[0]*sp.sin(theta) + C[1]*sp.cos(theta),\n",
    "    }).subs({\n",
    "        sp.cos(theta): (1-z**2)/(1+z**2),\n",
    "        sp.sin(theta): 2*z/(1+z**2),\n",
    "    }).expand() * ((1+z**2)**3)\n",
    "\n",
    "    z_roots = sp.nroots(expr.simplify())\n",
    "    theta_roots = [2*sp.atan(z) for z in z_roots]\n",
    "\n",
    "    return theta_roots\n",
    "\n",
    "def new_code(points):\n",
    "    A = points[1] - points[0]\n",
    "    B = points[2] - points[1]\n",
    "    C = points[0] - points[2]\n",
    "\n",
    "    polynomial = [\n",
    "        -A[0]**2*A[1] - B[0]**2*B[1] - C[0]**2*C[1],\n",
    "        2*A[0]**3 - 4*A[0]*A[1]**2 + 2*B[0]**3 - 4*B[0]*B[1]**2 + 2*C[0]**3 - 4*C[0]*C[1]**2,\n",
    "        11*A[0]**2*A[1] - 4*A[1]**3 + 11*B[0]**2*B[1] - 4*B[1]**3 + 11*C[0]**2*C[1] - 4*C[1]**3,\n",
    "        -4*A[0]**3 + 16*A[0]*A[1]**2 - 4*B[0]**3 + 16*B[0]*B[1]**2 - 4*C[0]**3 + 16*C[0]*C[1]**2,\n",
    "        -11*A[0]**2*A[1] + 4*A[1]**3 - 11*B[0]**2*B[1] + 4*B[1]**3 - 11*C[0]**2*C[1] + 4*C[1]**3,\n",
    "        2*A[0]**3 - 4*A[0]*A[1]**2 + 2*B[0]**3 - 4*B[0]*B[1]**2 + 2*C[0]**3 - 4*C[0]*C[1]**2,\n",
    "        A[0]**2*A[1] + B[0]**2*B[1] + C[0]**2*C[1]\n",
    "    ]\n",
    "\n",
    "    theta_roots = 2*np.arctan(np.roots(polynomial))\n",
    "\n",
    "    return theta_roots"
   ]
  },
  {
   "cell_type": "code",
   "execution_count": 15,
   "metadata": {},
   "outputs": [
    {
     "name": "stdout",
     "output_type": "stream",
     "text": [
      "[-1.99133066207886, -1.15026199151093, 0, 1.15026199151093, 1.99133066207886]\n",
      "[-1.99133066  1.99133066 -1.15026199  1.15026199  0.        ]\n"
     ]
    }
   ],
   "source": [
    "points = np.array([\n",
    "    [1, 0],\n",
    "    [0, 1],\n",
    "    [-1, 0]\n",
    "])\n",
    "\n",
    "print(old_code(points))\n",
    "print(new_code(points))"
   ]
  },
  {
   "cell_type": "code",
   "execution_count": 12,
   "metadata": {},
   "outputs": [
    {
     "data": {
      "text/latex": [
       "$\\displaystyle - 4 z^{4} + 4 z^{2}$"
      ],
      "text/plain": [
       "-4*z**4 + 4*z**2"
      ]
     },
     "execution_count": 12,
     "metadata": {},
     "output_type": "execute_result"
    }
   ],
   "source": [
    "A = sp.symbols(\"A_0, A_1\")\n",
    "B = sp.symbols(\"B_0, B_1\")\n",
    "C = sp.symbols(\"C_0, C_1\")\n",
    "\n",
    "x1, y1, x2, y2, x3, y3 = sp.symbols(\"x_1, y_1, x_2, y_2, x_3, y_3\")\n",
    "\n",
    "theta = sp.symbols(\"\\\\theta\")\n",
    "z = sp.symbols(\"z\")\n",
    "\n",
    "expr: sp.Symbol = (y1*x1**2 + y2*x2**2 + y3*x3**2).subs({\n",
    "    x1: A[0]*sp.cos(theta) - A[1]*sp.sin(theta),\n",
    "    y1: A[0]*sp.sin(theta) + A[1]*sp.cos(theta),\n",
    "    x2: B[0]*sp.cos(theta) - B[1]*sp.sin(theta),\n",
    "    y2: B[0]*sp.sin(theta) + B[1]*sp.cos(theta),\n",
    "    x3: C[0]*sp.cos(theta) - C[1]*sp.sin(theta),\n",
    "    y3: C[0]*sp.sin(theta) + C[1]*sp.cos(theta),\n",
    "}).subs({\n",
    "    sp.cos(theta): (1-z**2)/(1+z**2),\n",
    "    sp.sin(theta): 2*z/(1+z**2),\n",
    "}).expand() * ((1+z**2)**3)\n",
    "\n",
    "poly = expr.simplify().collect(z)\n",
    "\n",
    "poly.subs({\n",
    "    A[0]: 1,\n",
    "    A[1]: 0,\n",
    "    B[0]: 0,\n",
    "    B[1]: 1,\n",
    "    C[0]: -1,\n",
    "    C[1]: 0\n",
    "}).collect(z)"
   ]
  },
  {
   "cell_type": "code",
   "execution_count": null,
   "metadata": {},
   "outputs": [],
   "source": [
    "# z**6*(-A_0**2*A_1 - B_0**2*B_1 - C_0**2*C_1) +\n",
    "# z**5*(2*A_0**3 - 4*A_0*A_1**2 + 2*B_0**3 - 4*B_0*B_1**2 + 2*C_0**3 - 4*C_0*C_1**2) +\n",
    "# z**4*(11*A_0**2*A_1 - 4*A_1**3 + 11*B_0**2*B_1 - 4*B_1**3 + 11*C_0**2*C_1 - 4*C_1**3) +\n",
    "# z**3*(-4*A_0**3 + 16*A_0*A_1**2 - 4*B_0**3 + 16*B_0*B_1**2 - 4*C_0**3 + 16*C_0*C_1**2) +\n",
    "# z**2*(-11*A_0**2*A_1 + 4*A_1**3 - 11*B_0**2*B_1 + 4*B_1**3 - 11*C_0**2*C_1 + 4*C_1**3) +\n",
    "# z*(2*A_0**3 - 4*A_0*A_1**2 + 2*B_0**3 - 4*B_0*B_1**2 + 2*C_0**3 - 4*C_0*C_1**2) +\n",
    "# A_0**2*A_1 + B_0**2*B_1 + C_0**2*C_1\n",
    "polynomial = [\n",
    "    -A[0]**2*A[1] - B[0]**2*B[1] - C[0]**2*C[1],\n",
    "    2*A[0]**3 - 4*A[0]*A[1]**2 + 2*B[0]**3 - 4*B[0]*B[1]**2 + 2*C[0]**3 - 4*C[0]*C[1]**2,\n",
    "    11*A[0]**2*A[1] - 4*A[1]**3 + 11*B[0]**2*B[1] - 4*B[1]**3 + 11*C[0]**2*C[1] - 4*C[1]**3,\n",
    "    -4*A[0]**3 + 16*A[0]*A[1]**2 - 4*B[0]**3 + 16*B[0]*B[1]**2 - 4*C[0]**3 + 16*C[0]*C[1]**2,\n",
    "    -11*A[0]**2*A[1] + 4*A[1]**3 - 11*B[0]**2*B[1] + 4*B[1]**3 - 11*C[0]**2*C[1] + 4*C[1]**3,\n",
    "    2*A[0]**3 - 4*A[0]*A[1]**2 + 2*B[0]**3 - 4*B[0]*B[1]**2 + 2*C[0]**3 - 4*C[0]*C[1]**2,\n",
    "    A[0]**2*A[1] + B[0]**2*B[1] + C[0]**2*C[1]\n",
    "]\n",
    "\n",
    "theta_roots = np.arctan(np.roots(polynomial))"
   ]
  },
  {
   "cell_type": "code",
   "execution_count": 13,
   "metadata": {},
   "outputs": [
    {
     "data": {
      "text/plain": [
       "[0, 0, -4, 0, 4, 0, 0]"
      ]
     },
     "execution_count": 13,
     "metadata": {},
     "output_type": "execute_result"
    }
   ],
   "source": [
    "A = np.array([1, 0])\n",
    "B = np.array([0, 1])\n",
    "C = np.array([-1, 0])\n",
    "\n",
    "polynomial = [\n",
    "    -A[0]**2*A[1] - B[0]**2*B[1] - C[0]**2*C[1],\n",
    "    2*A[0]**3 - 4*A[0]*A[1]**2 + 2*B[0]**3 - 4*B[0]*B[1]**2 + 2*C[0]**3 - 4*C[0]*C[1]**2,\n",
    "    11*A[0]**2*A[1] - 4*A[1]**3 + 11*B[0]**2*B[1] - 4*B[1]**3 + 11*C[0]**2*C[1] - 4*C[1]**3,\n",
    "    -4*A[0]**3 + 16*A[0]*A[1]**2 - 4*B[0]**3 + 16*B[0]*B[1]**2 - 4*C[0]**3 + 16*C[0]*C[1]**2,\n",
    "    -11*A[0]**2*A[1] + 4*A[1]**3 - 11*B[0]**2*B[1] + 4*B[1]**3 - 11*C[0]**2*C[1] + 4*C[1]**3,\n",
    "    2*A[0]**3 - 4*A[0]*A[1]**2 + 2*B[0]**3 - 4*B[0]*B[1]**2 + 2*C[0]**3 - 4*C[0]*C[1]**2,\n",
    "    A[0]**2*A[1] + B[0]**2*B[1] + C[0]**2*C[1]\n",
    "]\n",
    "\n",
    "polynomial"
   ]
  }
 ],
 "metadata": {
  "kernelspec": {
   "display_name": "myenv",
   "language": "python",
   "name": "python3"
  },
  "language_info": {
   "codemirror_mode": {
    "name": "ipython",
    "version": 3
   },
   "file_extension": ".py",
   "mimetype": "text/x-python",
   "name": "python",
   "nbconvert_exporter": "python",
   "pygments_lexer": "ipython3",
   "version": "3.10.4"
  }
 },
 "nbformat": 4,
 "nbformat_minor": 2
}
