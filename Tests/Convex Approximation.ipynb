{
 "cells": [
  {
   "cell_type": "code",
   "execution_count": 2,
   "metadata": {},
   "outputs": [],
   "source": [
    "import numpy as np\n",
    "import matplotlib.pyplot as plt"
   ]
  },
  {
   "cell_type": "markdown",
   "metadata": {},
   "source": [
    "Intermediate goal: approximate $\\sigma(x_0, E)$ for all $x_0 \\in E$."
   ]
  },
  {
   "cell_type": "code",
   "execution_count": 18,
   "metadata": {},
   "outputs": [
    {
     "data": {
      "text/plain": [
       "(-5.0, 5.0)"
      ]
     },
     "execution_count": 18,
     "metadata": {},
     "output_type": "execute_result"
    },
    {
     "data": {
      "image/png": "[encoded data removed]",
      "text/plain": [
       "<Figure size 500x500 with 1 Axes>"
      ]
     },
     "metadata": {},
     "output_type": "display_data"
    }
   ],
   "source": [
    "# Parallelogram: a matrix that represents the image of [-1,1]x[-1,1]\n",
    "# para[n] rpresents the midpoint of the n-th edge\n",
    "\n",
    "def _parallelogram_addition(para1, para2):\n",
    "    matrix = np.linalg.inv(para1)\n",
    "\n",
    "    vertex0 = (para2[0] + para2[1]) @ matrix\n",
    "    vertex1 = (para2[0] - para2[1]) @ matrix\n",
    "\n",
    "    m0 = np.max(np.abs([vertex0[0], vertex1[0]])) + 1\n",
    "    m1 = np.max(np.abs([vertex0[1], vertex1[1]])) + 1\n",
    "\n",
    "    new_para = np.diag([m0, m1]) @ para1\n",
    "\n",
    "    return new_para\n",
    "\n",
    "def parallelogram_addition(para1, para2):\n",
    "    new_para1 = _parallelogram_addition(para1, para2)\n",
    "    new_para2 = _parallelogram_addition(para2, para1)\n",
    "\n",
    "    if parallelogram_area(new_para1) <= parallelogram_area(new_para2):\n",
    "        return new_para1\n",
    "    else:\n",
    "        return new_para2\n",
    "\n",
    "def parallelogram_area(para):\n",
    "    return 4*np.linalg.det(para)\n",
    "\n",
    "def parallelogram_vertices(para):\n",
    "    return np.array([\n",
    "        para[0] + para[1],\n",
    "        -para[0] + para[1],\n",
    "        -para[0] - para[1],\n",
    "        para[0] - para[1]\n",
    "    ])\n",
    "\n",
    "def plot_parallelogram(ax: plt.Axes, para):\n",
    "    vertices = parallelogram_vertices(para)\n",
    "    ax.fill(vertices[:,0], vertices[:,1], alpha=0.5)\n",
    "\n",
    "fig, ax = plt.subplots(1, 1, figsize=(5, 5))\n",
    "\n",
    "para1 = np.array([[1, 0], [0, 1]])\n",
    "para2 = np.array([[2, 2], [0.2, -0.2]])\n",
    "\n",
    "plot_parallelogram(ax, para1)\n",
    "plot_parallelogram(ax, para2)\n",
    "plot_parallelogram(ax, parallelogram_addition(para1, para2))\n",
    "\n",
    "ax.set_xlim(-5, 5)\n",
    "ax.set_ylim(-5, 5)"
   ]
  }
 ],
 "metadata": {
  "kernelspec": {
   "display_name": "myenv",
   "language": "python",
   "name": "python3"
  },
  "language_info": {
   "codemirror_mode": {
    "name": "ipython",
    "version": 3
   },
   "file_extension": ".py",
   "mimetype": "text/x-python",
   "name": "python",
   "nbconvert_exporter": "python",
   "pygments_lexer": "ipython3",
   "version": "3.10.4"
  }
 },
 "nbformat": 4,
 "nbformat_minor": 2
}
