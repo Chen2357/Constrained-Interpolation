{
 "cells": [
  {
   "cell_type": "code",
   "execution_count": 1,
   "metadata": {},
   "outputs": [],
   "source": [
    "import numpy as np\n",
    "import matplotlib.pyplot as plt\n",
    "\n",
    "import queue\n",
    "\n",
    "from ipywidgets import interact\n",
    "import ipywidgets as widgets\n",
    "\n",
    "from test_module import *"
   ]
  },
  {
   "cell_type": "code",
   "execution_count": 2,
   "metadata": {},
   "outputs": [],
   "source": [
    "def plot_quad(ax, three_points, rad, format):\n",
    "    rad2 = wit.find_orientation(three_points)\n",
    "\n",
    "    rotation = np.array([\n",
    "        [np.cos(rad), -np.sin(rad)],\n",
    "        [np.sin(rad), np.cos(rad)]\n",
    "    ])\n",
    "\n",
    "    rotated_points = three_points @ rotation\n",
    "    p = np.poly1d(np.polyfit(rotated_points[:,0], rotated_points[:,1], 2))\n",
    "\n",
    "    x = np.linspace(-2, 2, 100)\n",
    "    y = p(x)\n",
    "\n",
    "    interp = np.array([x, y]).T @ rotation.T\n",
    "\n",
    "    ax.plot(interp[:,0], interp[:,1], format)\n",
    "\n",
    "def second_derivative(three_points, rad):\n",
    "    rotation = np.array([\n",
    "        [np.cos(rad), -np.sin(rad)],\n",
    "        [np.sin(rad), np.cos(rad)]\n",
    "    ])\n",
    "\n",
    "    rotated_points = three_points @ rotation\n",
    "    return 2*np.polyfit(rotated_points[:,0], rotated_points[:,1], 2)[0]"
   ]
  },
  {
   "cell_type": "code",
   "execution_count": 3,
   "metadata": {},
   "outputs": [
    {
     "data": {
      "application/vnd.jupyter.widget-view+json": {
       "model_id": "50d4ff1f3718466195cb516362c2d653",
       "version_major": 2,
       "version_minor": 0
      },
      "text/plain": [
       "interactive(children=(FloatSlider(value=0.0, description='x', max=1.0, step=0.01), FloatSlider(value=0.0, desc…"
      ]
     },
     "metadata": {},
     "output_type": "display_data"
    }
   ],
   "source": [
    "np.random.seed(123)\n",
    "points = sample_points(10, \"random\")\n",
    "\n",
    "square = wit.Hypercube([0,0], 1, points)\n",
    "square.quad_decompose()\n",
    "# root.compress()\n",
    "seperation_factor = 0.5\n",
    "ws_pairs = square.well_separated_pairs_decomposition(seperation_factor)\n",
    "\n",
    "nearest_neighbors = wit.all_nearest_neighbors(ws_pairs, 3)\n",
    "\n",
    "@interact(x=(0, 1, 0.01), y=(0, 1, 0.01))\n",
    "def plot(x, y):\n",
    "    fig, ax = plt.subplots(1)\n",
    "\n",
    "    square.plot(ax, edgecolor = 'b', facecolor = \"None\")\n",
    "    ax.set_xlim(0, 1)\n",
    "    ax.set_ylim(0, 1)\n",
    "    ax.set_aspect('equal', adjustable='box')\n",
    "\n",
    "    ax.plot(x, y, 'kx')\n",
    "\n",
    "    cube = square.search([x,y])\n",
    "    if len(cube.points) == 0:\n",
    "        return\n",
    "\n",
    "    point = cube.points[0]\n",
    "    # square.query_nearest_point([x,y])\n",
    "    three_points = np.concatenate([nearest_neighbors[point.tobytes()][0:2], [point]])\n",
    "\n",
    "    rad = wit.find_orientation(three_points)\n",
    "\n",
    "    ax.plot(point[0], point[1], 'rx')\n",
    "    ax.annotate(\"B\", (point[0], point[1]))\n",
    "    ax.annotate(\"Q\", (three_points[1,0], three_points[1,1]))\n",
    "\n",
    "    x = np.linspace(0, 1, 100)\n",
    "    y = np.tan(rad) * (x-0.5) + 0.5\n",
    "    ax.plot(x, y, 'r--')\n",
    "\n",
    "    plot_quad(ax, three_points, rad, 'r')\n",
    "\n",
    "    next_point = three_points[0]\n",
    "    next_next_point: npt.NDArray\n",
    "\n",
    "    ax.plot(next_point[0], next_point[1], 'gx')\n",
    "    ax.annotate(\"P\", (next_point[0], next_point[1]))\n",
    "\n",
    "    for p in nearest_neighbors[next_point.tobytes()]:\n",
    "        if not np.all(p == three_points[1]) and not np.all(p == point):\n",
    "            next_next_point = p\n",
    "            break\n",
    "\n",
    "    ax.annotate(\"R\", (next_next_point[0], next_next_point[1]))\n",
    "\n",
    "    next_three_point = np.array([point, next_point, next_next_point])\n",
    "    next_rad = wit.find_orientation(next_three_point)\n",
    "\n",
    "    x = np.linspace(0, 1, 100)\n",
    "    y = np.tan(next_rad) * (x-0.5) + 0.5\n",
    "    ax.plot(x, y, 'g--')\n",
    "\n",
    "    plot_quad(ax, next_three_point, next_rad, 'g')\n",
    "\n",
    "    print(\"DIfference in orientation (rad):\", np.min([(rad - next_rad) % (np.pi), (next_rad - rad) % (np.pi)]))\n",
    "    print(\"Second derivative change of BPQ from red to green orientation:\", np.abs(second_derivative(three_points, rad)) - np.abs(second_derivative(three_points, next_rad)))\n",
    "    print(\"Second derivative change of BPR from green to red orientation:\", np.abs(second_derivative(next_three_point, next_rad)) - np.abs(second_derivative(next_three_point, rad)))"
   ]
  },
  {
   "cell_type": "code",
   "execution_count": 2,
   "metadata": {},
   "outputs": [],
   "source": [
    "def ref_axis_angle(points, width, a1, a2):\n",
    "    if len(points) < 3:\n",
    "        if len(points) == 2:\n",
    "            return np.arctan2(points[1,1] - points[0,1], points[1,0] - points[0,0])\n",
    "        else:\n",
    "            return 0\n",
    "\n",
    "    best_rad = None\n",
    "    minCurvature = a2 / width\n",
    "\n",
    "    for rad in np.arange(0, np.pi, np.pi/20):\n",
    "        rotation = np.array([\n",
    "            [np.cos(rad), -np.sin(rad)],\n",
    "            [np.sin(rad), np.cos(rad)]\n",
    "        ])\n",
    "\n",
    "        rotated_points = points @ rotation\n",
    "        rotated_points = rotated_points[rotated_points[:,0].argsort()]\n",
    "\n",
    "        maxSlope = np.max(np.abs(np.diff(rotated_points[:,1])/np.diff(rotated_points[:,0])))\n",
    "        maxCurvature = np.max(np.abs(np.diff(np.diff(rotated_points[:,1])/np.diff(rotated_points[:,0]))))\n",
    "\n",
    "        if maxSlope <= a1 and maxCurvature <= minCurvature:\n",
    "            minCurvature = maxCurvature\n",
    "            best_rad = rad\n",
    "\n",
    "    return best_rad"
   ]
  },
  {
   "cell_type": "code",
   "execution_count": 3,
   "metadata": {},
   "outputs": [
    {
     "data": {
      "application/vnd.jupyter.widget-view+json": {
       "model_id": "a21268a9fbf14c189c954a6933cf7fe2",
       "version_major": 2,
       "version_minor": 0
      },
      "text/plain": [
       "interactive(children=(FloatSlider(value=0.0, description='x', max=1.0, step=0.01), FloatSlider(value=0.0, desc…"
      ]
     },
     "metadata": {},
     "output_type": "display_data"
    }
   ],
   "source": [
    "np.random.seed(123)\n",
    "points = sample_points(100, \"random\")\n",
    "\n",
    "square = wit.Hypercube([0,0], 1, points)\n",
    "\n",
    "# biggest = wit.Hypercube([0,0], 0)\n",
    "\n",
    "a1 = 1\n",
    "a2 = 1\n",
    "\n",
    "q = queue.Queue()\n",
    "q.put(square)\n",
    "while q.qsize() != 0:\n",
    "    cube: wit.Hypercube = q.get()\n",
    "    points = square.search_in(cube.dialated(3))\n",
    "    angle = ref_axis_angle(points, cube.width, a1, a2)\n",
    "\n",
    "    cube.ref_axis_angle = angle\n",
    "\n",
    "    if angle is not None: continue\n",
    "\n",
    "    cube.subdivide()\n",
    "    for child in cube.children:\n",
    "        q.put(child)\n",
    "\n",
    "@interact(x=(0, 1, 0.01), y=(0, 1, 0.01))\n",
    "def plot(x, y):\n",
    "    fig, ax = plt.subplots(1)\n",
    "    square.plot(ax, edgecolor = 'b', facecolor = \"None\")\n",
    "    ax.set_xlim(0, 1)\n",
    "    ax.set_ylim(0, 1)\n",
    "\n",
    "    ax.plot(x, y, 'rx')\n",
    "    cube = square.search([x,y])\n",
    "\n",
    "    cube.dialated(1).plot(ax, edgecolor = None, facecolor = \"r\", alpha = 0.2)\n",
    "\n",
    "    x = np.linspace(0, 1, 100)\n",
    "    y = np.tan(cube.ref_axis_angle) * (x-0.5) + 0.5\n",
    "    ax.plot(x, y, 'r')"
   ]
  }
 ],
 "metadata": {
  "kernelspec": {
   "display_name": "myenv",
   "language": "python",
   "name": "python3"
  },
  "language_info": {
   "codemirror_mode": {
    "name": "ipython",
    "version": 3
   },
   "file_extension": ".py",
   "mimetype": "text/x-python",
   "name": "python",
   "nbconvert_exporter": "python",
   "pygments_lexer": "ipython3",
   "version": "3.10.4"
  }
 },
 "nbformat": 4,
 "nbformat_minor": 2
}
